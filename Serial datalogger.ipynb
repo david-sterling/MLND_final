{
 "cells": [
  {
   "cell_type": "code",
   "execution_count": 5,
   "metadata": {},
   "outputs": [
    {
     "name": "stdout",
     "output_type": "stream",
     "text": [
      "Logging ended\n"
     ]
    }
   ],
   "source": [
    "import serial\n",
    "import time\n",
    "import csv\n",
    "\n",
    "ser = serial.Serial('COM3',921600,timeout=50000)\n",
    "ser.flushInput()\n",
    "with open(\"chairFree3.csv\",\"a\") as f:\n",
    "    f.write(\"sep=;\\n\")\n",
    "    f.write(\"timestamp;AX;AY;AZ;GX;GY;GZ;MX;MY;MZ;Roll;Pitch;Yaw;Q1;Q2;Q3;Q4;LABEL\\n\")\n",
    "    while ser.isOpen():\n",
    "        try:\n",
    "            ser_bytes = ser.readline()\n",
    "            decoded_bytes = ser_bytes[0:len(ser_bytes)-2].decode(\"ASCII\")\n",
    "            #splitted = decoded_bytes.split(\";\")\n",
    "            #print(splitted)\n",
    "            \n",
    "            #fieldnames = ['timestamp','AX','AY','AZ','GX','GY','GZ','MX','MY','MZ','Roll','Pitch','Yaw','Q1','Q2','Q3','Q4']\n",
    "            #writer = csv.writer(f,delimiter=';')\n",
    "            f.write(str(time.time())+\";\"+decoded_bytes+\";IN_USE\"+'\\n')\n",
    "            #writer.writerow(decoded_bytes)\n",
    "            \n",
    "        except:\n",
    "            print(\"Logging ended\")\n",
    "            f.close() \n",
    "            ser.close()\n",
    "\n",
    "        \n",
    "        \n",
    "        "
   ]
  },
  {
   "cell_type": "code",
   "execution_count": 4,
   "metadata": {},
   "outputs": [
    {
     "name": "stdout",
     "output_type": "stream",
     "text": [
      "Logging ended\n"
     ]
    }
   ],
   "source": [
    "import serial\n",
    "import time\n",
    "import csv\n",
    "\n",
    "ser = serial.Serial('COM3',921600,timeout=50000)\n",
    "ser.flushInput()\n",
    "with open(\"chairInUse4.csv\",\"a\") as f:\n",
    "    f.write(\"sep=;\\n\")\n",
    "    f.write(\"timestamp;AX;AY;AZ;GX;GY;GZ;MX;MY;MZ;Roll;Pitch;Yaw;Q1;Q2;Q3;Q4;LABEL\\n\")\n",
    "    while ser.isOpen():\n",
    "        try:\n",
    "            ser_bytes = ser.readline()\n",
    "            decoded_bytes = ser_bytes[0:len(ser_bytes)-2].decode(\"ASCII\")\n",
    "            #splitted = decoded_bytes.split(\";\")\n",
    "            #print(splitted)\n",
    "            \n",
    "            #fieldnames = ['timestamp','AX','AY','AZ','GX','GY','GZ','MX','MY','MZ','Roll','Pitch','Yaw','Q1','Q2','Q3','Q4']\n",
    "            #writer = csv.writer(f,delimiter=';')\n",
    "            f.write(str(time.time())+\";\"+decoded_bytes+\";FREE\"+'\\n')\n",
    "            #writer.writerow(decoded_bytes)\n",
    "            \n",
    "        except:\n",
    "            print(\"Logging ended\")\n",
    "            f.close() \n",
    "            ser.close()\n",
    "\n",
    "        \n",
    "        \n",
    "        "
   ]
  }
 ],
 "metadata": {
  "kernelspec": {
   "display_name": "Python 3",
   "language": "python",
   "name": "python3"
  },
  "language_info": {
   "codemirror_mode": {
    "name": "ipython",
    "version": 3
   },
   "file_extension": ".py",
   "mimetype": "text/x-python",
   "name": "python",
   "nbconvert_exporter": "python",
   "pygments_lexer": "ipython3",
   "version": "3.7.0"
  }
 },
 "nbformat": 4,
 "nbformat_minor": 2
}
